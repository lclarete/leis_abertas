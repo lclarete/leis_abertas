{
 "cells": [
  {
   "cell_type": "code",
   "execution_count": 10,
   "metadata": {},
   "outputs": [],
   "source": [
    "import pandas as pd\n",
    "import pygsheets"
   ]
  },
  {
   "cell_type": "code",
   "execution_count": 5,
   "metadata": {},
   "outputs": [],
   "source": [
    "url_interlegis = pd.read_csv('url_interlegis.csv')"
   ]
  },
  {
   "cell_type": "code",
   "execution_count": 6,
   "metadata": {},
   "outputs": [
    {
     "data": {
      "text/html": [
       "<div>\n",
       "<style scoped>\n",
       "    .dataframe tbody tr th:only-of-type {\n",
       "        vertical-align: middle;\n",
       "    }\n",
       "\n",
       "    .dataframe tbody tr th {\n",
       "        vertical-align: top;\n",
       "    }\n",
       "\n",
       "    .dataframe thead th {\n",
       "        text-align: right;\n",
       "    }\n",
       "</style>\n",
       "<table border=\"1\" class=\"dataframe\">\n",
       "  <thead>\n",
       "    <tr style=\"text-align: right;\">\n",
       "      <th></th>\n",
       "      <th>NomeMun</th>\n",
       "      <th>UF</th>\n",
       "      <th>CodMun</th>\n",
       "      <th>match_var</th>\n",
       "      <th>title</th>\n",
       "      <th>link</th>\n",
       "      <th>uf</th>\n",
       "      <th>rua_camara</th>\n",
       "      <th>numero_camara</th>\n",
       "      <th>link_clean</th>\n",
       "      <th>email</th>\n",
       "      <th>url_legislativo</th>\n",
       "      <th>cep</th>\n",
       "    </tr>\n",
       "  </thead>\n",
       "  <tbody>\n",
       "    <tr>\n",
       "      <th>0</th>\n",
       "      <td>Ariquemes</td>\n",
       "      <td>RO</td>\n",
       "      <td>1100023</td>\n",
       "      <td>Ariquemes_RO</td>\n",
       "      <td>Câmara Municipal de Ariquemes</td>\n",
       "      <td>http://www.interlegis.leg.br/institucional/cas...</td>\n",
       "      <td>RO</td>\n",
       "      <td>Rua Cassia Terida</td>\n",
       "      <td>1369</td>\n",
       "      <td>http://www.interlegis.leg.br/institucional/cas...</td>\n",
       "      <td>decomcma@outlook.com</td>\n",
       "      <td>http://www.camaradeariquemes.ro.gov.br</td>\n",
       "      <td>76872-874</td>\n",
       "    </tr>\n",
       "    <tr>\n",
       "      <th>1</th>\n",
       "      <td>Cabixi</td>\n",
       "      <td>RO</td>\n",
       "      <td>1100031</td>\n",
       "      <td>Cabixi_RO</td>\n",
       "      <td>Câmara Municipal de Cabixi</td>\n",
       "      <td>http://www.interlegis.leg.br/institucional/cas...</td>\n",
       "      <td>RO</td>\n",
       "      <td>Rua Bororos</td>\n",
       "      <td>3234</td>\n",
       "      <td>http://www.interlegis.leg.br/institucional/cas...</td>\n",
       "      <td>camaracabixi@bol.com.br</td>\n",
       "      <td>http://www.cabixi.ro.leg.br</td>\n",
       "      <td>78999-000</td>\n",
       "    </tr>\n",
       "    <tr>\n",
       "      <th>2</th>\n",
       "      <td>Cacoal</td>\n",
       "      <td>RO</td>\n",
       "      <td>1100049</td>\n",
       "      <td>Cacoal_RO</td>\n",
       "      <td>Câmara Municipal de Cacoal</td>\n",
       "      <td>http://www.interlegis.leg.br/institucional/cas...</td>\n",
       "      <td>RO</td>\n",
       "      <td>Rua Presidente Médici</td>\n",
       "      <td>1849</td>\n",
       "      <td>http://www.interlegis.leg.br/institucional/cas...</td>\n",
       "      <td>ascomcmc@gmail.com</td>\n",
       "      <td>http://www.camaradecacoal.ro.gov.br</td>\n",
       "      <td>76962-620</td>\n",
       "    </tr>\n",
       "    <tr>\n",
       "      <th>3</th>\n",
       "      <td>Cerejeiras</td>\n",
       "      <td>RO</td>\n",
       "      <td>1100056</td>\n",
       "      <td>Cerejeiras_RO</td>\n",
       "      <td>Câmara Municipal de Cerejeiras</td>\n",
       "      <td>http://www.interlegis.leg.br/institucional/cas...</td>\n",
       "      <td>RO</td>\n",
       "      <td>Rua Avenida Brasil</td>\n",
       "      <td>2570</td>\n",
       "      <td>http://www.interlegis.leg.br/institucional/cas...</td>\n",
       "      <td>camaradecerejeiras@hotmail.com</td>\n",
       "      <td>http://www.cerejeiras.ro.leg.br</td>\n",
       "      <td>78997-000</td>\n",
       "    </tr>\n",
       "    <tr>\n",
       "      <th>4</th>\n",
       "      <td>Colorado do Oeste</td>\n",
       "      <td>RO</td>\n",
       "      <td>1100064</td>\n",
       "      <td>Colorado do Oeste_RO</td>\n",
       "      <td>Câmara Municipal de Colorado do Oeste</td>\n",
       "      <td>http://www.interlegis.leg.br/institucional/cas...</td>\n",
       "      <td>RO</td>\n",
       "      <td>Rua Rio Grande do Sul</td>\n",
       "      <td>4195</td>\n",
       "      <td>http://www.interlegis.leg.br/institucional/cas...</td>\n",
       "      <td>co-camaramunicipal@hotmail.com</td>\n",
       "      <td>NaN</td>\n",
       "      <td>76993-000</td>\n",
       "    </tr>\n",
       "  </tbody>\n",
       "</table>\n",
       "</div>"
      ],
      "text/plain": [
       "             NomeMun  UF   CodMun             match_var  \\\n",
       "0          Ariquemes  RO  1100023          Ariquemes_RO   \n",
       "1             Cabixi  RO  1100031             Cabixi_RO   \n",
       "2             Cacoal  RO  1100049             Cacoal_RO   \n",
       "3         Cerejeiras  RO  1100056         Cerejeiras_RO   \n",
       "4  Colorado do Oeste  RO  1100064  Colorado do Oeste_RO   \n",
       "\n",
       "                                   title  \\\n",
       "0          Câmara Municipal de Ariquemes   \n",
       "1             Câmara Municipal de Cabixi   \n",
       "2             Câmara Municipal de Cacoal   \n",
       "3         Câmara Municipal de Cerejeiras   \n",
       "4  Câmara Municipal de Colorado do Oeste   \n",
       "\n",
       "                                                link  uf  \\\n",
       "0  http://www.interlegis.leg.br/institucional/cas...  RO   \n",
       "1  http://www.interlegis.leg.br/institucional/cas...  RO   \n",
       "2  http://www.interlegis.leg.br/institucional/cas...  RO   \n",
       "3  http://www.interlegis.leg.br/institucional/cas...  RO   \n",
       "4  http://www.interlegis.leg.br/institucional/cas...  RO   \n",
       "\n",
       "              rua_camara numero_camara  \\\n",
       "0      Rua Cassia Terida          1369   \n",
       "1            Rua Bororos          3234   \n",
       "2  Rua Presidente Médici          1849   \n",
       "3     Rua Avenida Brasil          2570   \n",
       "4  Rua Rio Grande do Sul          4195   \n",
       "\n",
       "                                          link_clean  \\\n",
       "0  http://www.interlegis.leg.br/institucional/cas...   \n",
       "1  http://www.interlegis.leg.br/institucional/cas...   \n",
       "2  http://www.interlegis.leg.br/institucional/cas...   \n",
       "3  http://www.interlegis.leg.br/institucional/cas...   \n",
       "4  http://www.interlegis.leg.br/institucional/cas...   \n",
       "\n",
       "                            email                         url_legislativo  \\\n",
       "0            decomcma@outlook.com  http://www.camaradeariquemes.ro.gov.br   \n",
       "1         camaracabixi@bol.com.br             http://www.cabixi.ro.leg.br   \n",
       "2              ascomcmc@gmail.com     http://www.camaradecacoal.ro.gov.br   \n",
       "3  camaradecerejeiras@hotmail.com         http://www.cerejeiras.ro.leg.br   \n",
       "4  co-camaramunicipal@hotmail.com                                     NaN   \n",
       "\n",
       "         cep  \n",
       "0  76872-874  \n",
       "1  78999-000  \n",
       "2  76962-620  \n",
       "3  78997-000  \n",
       "4  76993-000  "
      ]
     },
     "execution_count": 6,
     "metadata": {},
     "output_type": "execute_result"
    }
   ],
   "source": [
    "url_interlegis.head()"
   ]
  },
  {
   "cell_type": "code",
   "execution_count": 35,
   "metadata": {},
   "outputs": [
    {
     "data": {
      "text/plain": [
       "(5536, 13)"
      ]
     },
     "execution_count": 35,
     "metadata": {},
     "output_type": "execute_result"
    }
   ],
   "source": [
    "url_interlegis.shape"
   ]
  },
  {
   "cell_type": "code",
   "execution_count": 49,
   "metadata": {},
   "outputs": [],
   "source": [
    "# read file from \"Leis Abertas\""
   ]
  },
  {
   "cell_type": "code",
   "execution_count": 50,
   "metadata": {},
   "outputs": [],
   "source": [
    "url_cidade = pd.read_csv('Leis Abertas - Cidades.csv')\n",
    "\n",
    "new_columns = ['municipio', 'uf', 'CodMun', 'lexml', 'site_prefeitura',\n",
    "       'url_legislativo_2', 'sistema_tipo', 'sistema_proposicao',\n",
    "       'sistema_legislacao', 'Apoio Interlegis']\n",
    "\n",
    "url_cidade.columns = new_columns\n",
    "\n",
    "teste = url_interlegis.merge(url_cidade)"
   ]
  }
 ],
 "metadata": {
  "kernelspec": {
   "display_name": "dataAnalysis",
   "language": "python",
   "name": "dataanalysis"
  },
  "language_info": {
   "codemirror_mode": {
    "name": "ipython",
    "version": 3
   },
   "file_extension": ".py",
   "mimetype": "text/x-python",
   "name": "python",
   "nbconvert_exporter": "python",
   "pygments_lexer": "ipython3",
   "version": "3.6.0"
  }
 },
 "nbformat": 4,
 "nbformat_minor": 2
}
