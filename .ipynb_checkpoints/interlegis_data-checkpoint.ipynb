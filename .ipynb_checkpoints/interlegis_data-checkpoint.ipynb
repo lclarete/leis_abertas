{
 "cells": [
  {
   "cell_type": "code",
   "execution_count": 1,
   "metadata": {},
   "outputs": [],
   "source": [
    "import pandas as pd"
   ]
  },
  {
   "cell_type": "code",
   "execution_count": 905,
   "metadata": {},
   "outputs": [],
   "source": [
    "# read data\n",
    "df = pd.read_csv('/Users/liviaclarete/gdrive/code/linterlegis_data.csv')"
   ]
  },
  {
   "cell_type": "code",
   "execution_count": 906,
   "metadata": {},
   "outputs": [
    {
     "data": {
      "text/plain": [
       "(5704, 4)"
      ]
     },
     "execution_count": 906,
     "metadata": {},
     "output_type": "execute_result"
    }
   ],
   "source": [
    "df.shape"
   ]
  },
  {
   "cell_type": "code",
   "execution_count": 907,
   "metadata": {},
   "outputs": [
    {
     "data": {
      "text/html": [
       "<div>\n",
       "<style scoped>\n",
       "    .dataframe tbody tr th:only-of-type {\n",
       "        vertical-align: middle;\n",
       "    }\n",
       "\n",
       "    .dataframe tbody tr th {\n",
       "        vertical-align: top;\n",
       "    }\n",
       "\n",
       "    .dataframe thead th {\n",
       "        text-align: right;\n",
       "    }\n",
       "</style>\n",
       "<table border=\"1\" class=\"dataframe\">\n",
       "  <thead>\n",
       "    <tr style=\"text-align: right;\">\n",
       "      <th></th>\n",
       "      <th>title</th>\n",
       "      <th>url_camara</th>\n",
       "      <th>address</th>\n",
       "      <th>link</th>\n",
       "    </tr>\n",
       "  </thead>\n",
       "  <tbody>\n",
       "    <tr>\n",
       "      <th>0</th>\n",
       "      <td>Câmara Municipal de Almino Afonso</td>\n",
       "      <td>mailto:cmaa@brisanet.com.br,javascript:void(0);</td>\n",
       "      <td>Endereço:,Rua Antônio Carlos, nº 44 ,Centro,Al...</td>\n",
       "      <td>http://www.interlegis.leg.br/institucional/cas...</td>\n",
       "    </tr>\n",
       "    <tr>\n",
       "      <th>1</th>\n",
       "      <td>Câmara Municipal de Alta Floresta</td>\n",
       "      <td>http://www.camaraaltafloresta.mt.gov.br/,mailt...</td>\n",
       "      <td>Endereço:,Av. Ariosto da Riva, nº 2349,Centro....</td>\n",
       "      <td>http://www.interlegis.leg.br/institucional/cas...</td>\n",
       "    </tr>\n",
       "    <tr>\n",
       "      <th>2</th>\n",
       "      <td>Câmara Municipal de Alpinópolis</td>\n",
       "      <td>http://www.camaracapinopolis.mg.gov.br/,mailto...</td>\n",
       "      <td>Endereço:,Rua Professor Telles, nº 335,São Ben...</td>\n",
       "      <td>http://www.interlegis.leg.br/institucional/cas...</td>\n",
       "    </tr>\n",
       "    <tr>\n",
       "      <th>3</th>\n",
       "      <td>Câmara Municipal de Alpestre</td>\n",
       "      <td>mailto:legislativoalpestre@yahoo.com.br,javasc...</td>\n",
       "      <td>Endereço:,Avenida Farrapos, nº 350,Centro,Alpe...</td>\n",
       "      <td>http://www.interlegis.leg.br/institucional/cas...</td>\n",
       "    </tr>\n",
       "    <tr>\n",
       "      <th>4</th>\n",
       "      <td>Câmara Municipal de Altair</td>\n",
       "      <td>mailto:camaramunicipalaltair@hotmail.com,javas...</td>\n",
       "      <td>Endereço:,Rua 04, nº 240,Centro,Altair,São Pau...</td>\n",
       "      <td>http://www.interlegis.leg.br/institucional/cas...</td>\n",
       "    </tr>\n",
       "  </tbody>\n",
       "</table>\n",
       "</div>"
      ],
      "text/plain": [
       "                               title  \\\n",
       "0  Câmara Municipal de Almino Afonso   \n",
       "1  Câmara Municipal de Alta Floresta   \n",
       "2    Câmara Municipal de Alpinópolis   \n",
       "3       Câmara Municipal de Alpestre   \n",
       "4         Câmara Municipal de Altair   \n",
       "\n",
       "                                          url_camara  \\\n",
       "0    mailto:cmaa@brisanet.com.br,javascript:void(0);   \n",
       "1  http://www.camaraaltafloresta.mt.gov.br/,mailt...   \n",
       "2  http://www.camaracapinopolis.mg.gov.br/,mailto...   \n",
       "3  mailto:legislativoalpestre@yahoo.com.br,javasc...   \n",
       "4  mailto:camaramunicipalaltair@hotmail.com,javas...   \n",
       "\n",
       "                                             address  \\\n",
       "0  Endereço:,Rua Antônio Carlos, nº 44 ,Centro,Al...   \n",
       "1  Endereço:,Av. Ariosto da Riva, nº 2349,Centro....   \n",
       "2  Endereço:,Rua Professor Telles, nº 335,São Ben...   \n",
       "3  Endereço:,Avenida Farrapos, nº 350,Centro,Alpe...   \n",
       "4  Endereço:,Rua 04, nº 240,Centro,Altair,São Pau...   \n",
       "\n",
       "                                                link  \n",
       "0  http://www.interlegis.leg.br/institucional/cas...  \n",
       "1  http://www.interlegis.leg.br/institucional/cas...  \n",
       "2  http://www.interlegis.leg.br/institucional/cas...  \n",
       "3  http://www.interlegis.leg.br/institucional/cas...  \n",
       "4  http://www.interlegis.leg.br/institucional/cas...  "
      ]
     },
     "execution_count": 907,
     "metadata": {},
     "output_type": "execute_result"
    }
   ],
   "source": [
    "df.head()"
   ]
  },
  {
   "cell_type": "code",
   "execution_count": 908,
   "metadata": {},
   "outputs": [],
   "source": [
    "import re\n",
    "def search_number(col):\n",
    "    regex_email = '[nº]..[0-9]{1,7}'\n",
    "    col_n = re.findall(regex_email, col)\n",
    "    col_n_clean = \"\".join(col_n)\n",
    "    col_n_clean = col_n_clean.replace(\n",
    "        ' ','').replace('nº', '').replace('º', '').replace('n°', '')\n",
    "    return(col_n_clean)\n",
    "\n",
    "\n",
    "def search_email(col):\n",
    "    regex_email = r'[\\w\\.-]+@[\\w\\.-]+'\n",
    "    col_email = re.findall(regex_email, col)\n",
    "    col_email_clean = \"\".join(col_email)\n",
    "    return(col_email_clean)\n",
    "\n",
    "\n",
    "def search_url(col):\n",
    "    regex_email = r'https?://(?:[-\\w.]|(?:%[\\da-fA-F]{2}))+'\n",
    "    col_url = re.findall(regex_email, col)\n",
    "    col_url_clean = \"\".join(col_url)\n",
    "    return(col_url_clean)\n",
    "\n",
    "def search_uf(col):\n",
    "    regex_uf = r\"[^,]*.CEP\"\n",
    "    col_uf = re.findall(regex_uf, col)\n",
    "    col_uf_clean = \"\".join(col_uf)\n",
    "    return(col_uf_clean)"
   ]
  },
  {
   "cell_type": "code",
   "execution_count": 909,
   "metadata": {},
   "outputs": [],
   "source": [
    "# copy dict from https://gist.github.com/ricardobarantini/5665214\n",
    "\n",
    "uf_dict = {\n",
    "    'AC': 'Acre',\n",
    "    'AL': 'Alagoas',\n",
    "    'AP': 'Amapá',\n",
    "    'AM': 'Amazonas',\n",
    "    'BA': 'Bahia',\n",
    "    'CE': 'Ceará',\n",
    "    'DF': 'Distrito Federal',\n",
    "    'ES': 'Espírito Santo',\n",
    "    'GO': 'Goiás',\n",
    "    'MA': 'Maranhão',\n",
    "    'MT': 'Mato Grosso',\n",
    "    'MS': 'Mato Grosso do Sul',\n",
    "    'MG': 'Minas Gerais',\n",
    "    'PA': 'Pará',\n",
    "    'PB': 'Paraíba',\n",
    "    'PR': 'Paraná',\n",
    "    'PE': 'Pernambuco',\n",
    "    'PI': 'Piauí',\n",
    "    'RJ': 'Rio de Janeiro',\n",
    "    'RN': 'Rio Grande do Norte',\n",
    "    'RS': 'Rio Grande do Sul',\n",
    "    'RO': 'Rondônia',\n",
    "    'RR': 'Roraima',\n",
    "    'SC': 'Santa Catarina',\n",
    "    'SP': 'São Paulo',\n",
    "    'SE': 'Sergipe',\n",
    "    'TO': 'Tocantins'\n",
    "}\n",
    "\n",
    "# swift postion from key to values\n",
    "uf_dict_2 = {y:x for x,y in uf_dict.items()}"
   ]
  },
  {
   "cell_type": "code",
   "execution_count": 910,
   "metadata": {},
   "outputs": [],
   "source": [
    "df['NomeMun'] = [df.title[i].split('Câmara Municipal de ')[1] \n",
    "                for i in range(0, len(df.link))]\n",
    "\n",
    "df['uf'] = df.address.apply(search_uf).str.split(',')\n",
    "df['uf'] = [df.uf[i][0] for i in range(0, len(df.uf))]\n",
    "df['uf'] = df.uf.map(uf_dict_2)\n",
    "\n",
    "\n",
    "df['rua_camara'] = [i[1] for i in df.address.str.split(',')]\n",
    "\n",
    "df['numero_camara'] = df.address.apply(search_number)\n",
    "\n",
    "\n",
    "df['link_clean'] = [df.link[i].split('#')[0] \n",
    "                    for i in range(0, len(df.link))]\n",
    "\n",
    "df['email'] = df.url_camara.apply(search_email)\n",
    "\n",
    "df['url_legislativo'] = df.url_camara.apply(search_url)\n",
    "\n",
    "df['cep'] = [i[1] for i in df.address.str.split('CEP')]\n",
    "df['cep'] = [i[1] for i in df.cep.str.split(',')]\n",
    "\n",
    "# creating match var to merge pop_info file\n",
    "df['match_var'] = df.NomeMun + '_' + df.uf"
   ]
  },
  {
   "cell_type": "code",
   "execution_count": 911,
   "metadata": {},
   "outputs": [],
   "source": [
    "df = df.drop(['url_camara', 'address'], axis=1)"
   ]
  },
  {
   "cell_type": "code",
   "execution_count": 912,
   "metadata": {},
   "outputs": [],
   "source": [
    "# NA values\n",
    "import numpy as np\n",
    "df = df.replace('', np.NaN)"
   ]
  },
  {
   "cell_type": "code",
   "execution_count": 913,
   "metadata": {},
   "outputs": [],
   "source": [
    "city_pop_info = pd.read_csv('/Users/liviaclarete/gdrive/code/municipios e estados/pop_gdp.csv')\n",
    "\n",
    "city_pop_info_2016 = city_pop_info[city_pop_info['Ano']==2016]\n",
    "\n",
    "city_code = city_pop_info_2016[['NomeMun', 'UF', 'CodMun']]"
   ]
  },
  {
   "cell_type": "code",
   "execution_count": 914,
   "metadata": {},
   "outputs": [
    {
     "name": "stderr",
     "output_type": "stream",
     "text": [
      "/Users/liviaclarete/.pyenv/versions/dataAnalysis/lib/python3.6/site-packages/ipykernel/__main__.py:1: SettingWithCopyWarning: \n",
      "A value is trying to be set on a copy of a slice from a DataFrame.\n",
      "Try using .loc[row_indexer,col_indexer] = value instead\n",
      "\n",
      "See the caveats in the documentation: http://pandas.pydata.org/pandas-docs/stable/indexing.html#indexing-view-versus-copy\n",
      "  if __name__ == '__main__':\n"
     ]
    }
   ],
   "source": [
    "city_code['match_var'] = city_code.NomeMun + '_' + city_code.UF"
   ]
  },
  {
   "cell_type": "code",
   "execution_count": 915,
   "metadata": {},
   "outputs": [],
   "source": [
    "city_code = city_code.reset_index()\n",
    "city_code = city_code.drop('index', axis=1)"
   ]
  },
  {
   "cell_type": "code",
   "execution_count": 916,
   "metadata": {},
   "outputs": [],
   "source": [
    "teste = city_code.merge(df)"
   ]
  },
  {
   "cell_type": "code",
   "execution_count": 921,
   "metadata": {},
   "outputs": [
    {
     "data": {
      "text/plain": [
       "1718"
      ]
     },
     "execution_count": 921,
     "metadata": {},
     "output_type": "execute_result"
    }
   ],
   "source": [
    "teste.url_legislativo.notnull().sum()"
   ]
  },
  {
   "cell_type": "code",
   "execution_count": 917,
   "metadata": {
    "collapsed": true
   },
   "outputs": [
    {
     "name": "stdout",
     "output_type": "stream",
     "text": [
      "Requirement already satisfied: pycep-correios in /Users/liviaclarete/.pyenv/versions/3.6.0/envs/dataAnalysis/lib/python3.6/site-packages (3.1.0)\n",
      "Requirement already satisfied: deprecation in /Users/liviaclarete/.pyenv/versions/3.6.0/envs/dataAnalysis/lib/python3.6/site-packages (from pycep-correios) (2.0.6)\n",
      "Requirement already satisfied: zeep>=2.0.0 in /Users/liviaclarete/.pyenv/versions/3.6.0/envs/dataAnalysis/lib/python3.6/site-packages (from pycep-correios) (3.4.0)\n",
      "Requirement already satisfied: packaging in /Users/liviaclarete/.pyenv/versions/3.6.0/envs/dataAnalysis/lib/python3.6/site-packages (from deprecation->pycep-correios) (19.0)\n",
      "Requirement already satisfied: lxml>=3.1.0 in /Users/liviaclarete/.pyenv/versions/3.6.0/envs/dataAnalysis/lib/python3.6/site-packages (from zeep>=2.0.0->pycep-correios) (4.3.0)\n",
      "Requirement already satisfied: pytz in /Users/liviaclarete/.pyenv/versions/3.6.0/envs/dataAnalysis/lib/python3.6/site-packages (from zeep>=2.0.0->pycep-correios) (2018.7)\n",
      "Requirement already satisfied: appdirs>=1.4.0 in /Users/liviaclarete/.pyenv/versions/3.6.0/envs/dataAnalysis/lib/python3.6/site-packages (from zeep>=2.0.0->pycep-correios) (1.4.3)\n",
      "Requirement already satisfied: attrs>=17.2.0 in /Users/liviaclarete/.pyenv/versions/3.6.0/envs/dataAnalysis/lib/python3.6/site-packages (from zeep>=2.0.0->pycep-correios) (18.2.0)\n",
      "Requirement already satisfied: requests>=2.7.0 in /Users/liviaclarete/.pyenv/versions/3.6.0/envs/dataAnalysis/lib/python3.6/site-packages (from zeep>=2.0.0->pycep-correios) (2.21.0)\n",
      "Requirement already satisfied: requests-toolbelt>=0.7.1 in /Users/liviaclarete/.pyenv/versions/3.6.0/envs/dataAnalysis/lib/python3.6/site-packages (from zeep>=2.0.0->pycep-correios) (0.9.1)\n",
      "Requirement already satisfied: defusedxml>=0.4.1 in /Users/liviaclarete/.pyenv/versions/3.6.0/envs/dataAnalysis/lib/python3.6/site-packages (from zeep>=2.0.0->pycep-correios) (0.5.0)\n",
      "Requirement already satisfied: cached-property>=1.3.0 in /Users/liviaclarete/.pyenv/versions/3.6.0/envs/dataAnalysis/lib/python3.6/site-packages (from zeep>=2.0.0->pycep-correios) (1.5.1)\n",
      "Requirement already satisfied: six>=1.9.0 in /Users/liviaclarete/.pyenv/versions/3.6.0/envs/dataAnalysis/lib/python3.6/site-packages (from zeep>=2.0.0->pycep-correios) (1.12.0)\n",
      "Requirement already satisfied: isodate>=0.5.4 in /Users/liviaclarete/.pyenv/versions/3.6.0/envs/dataAnalysis/lib/python3.6/site-packages (from zeep>=2.0.0->pycep-correios) (0.6.0)\n",
      "Requirement already satisfied: pyparsing>=2.0.2 in /Users/liviaclarete/.pyenv/versions/3.6.0/envs/dataAnalysis/lib/python3.6/site-packages (from packaging->deprecation->pycep-correios) (2.3.0)\n",
      "Requirement already satisfied: chardet<3.1.0,>=3.0.2 in /Users/liviaclarete/.pyenv/versions/3.6.0/envs/dataAnalysis/lib/python3.6/site-packages (from requests>=2.7.0->zeep>=2.0.0->pycep-correios) (3.0.4)\n",
      "Requirement already satisfied: idna<2.9,>=2.5 in /Users/liviaclarete/.pyenv/versions/3.6.0/envs/dataAnalysis/lib/python3.6/site-packages (from requests>=2.7.0->zeep>=2.0.0->pycep-correios) (2.8)\n",
      "Requirement already satisfied: urllib3<1.25,>=1.21.1 in /Users/liviaclarete/.pyenv/versions/3.6.0/envs/dataAnalysis/lib/python3.6/site-packages (from requests>=2.7.0->zeep>=2.0.0->pycep-correios) (1.24.1)\n",
      "Requirement already satisfied: certifi>=2017.4.17 in /Users/liviaclarete/.pyenv/versions/3.6.0/envs/dataAnalysis/lib/python3.6/site-packages (from requests>=2.7.0->zeep>=2.0.0->pycep-correios) (2018.11.29)\n",
      "\u001b[33mYou are using pip version 19.0.3, however version 19.1.1 is available.\n",
      "You should consider upgrading via the 'pip install --upgrade pip' command.\u001b[0m\n"
     ]
    }
   ],
   "source": [
    "! pip install pycep-correios"
   ]
  },
  {
   "cell_type": "code",
   "execution_count": 652,
   "metadata": {},
   "outputs": [],
   "source": [
    "import pycep_correios"
   ]
  },
  {
   "cell_type": "code",
   "execution_count": 656,
   "metadata": {},
   "outputs": [],
   "source": [
    "def cep(col):\n",
    "    col_cep = []\n",
    "    for i in col:\n",
    "        print(pycep_correios.consultar_cep(i))"
   ]
  },
  {
   "cell_type": "code",
   "execution_count": 659,
   "metadata": {},
   "outputs": [
    {
     "ename": "ExcecaoPyCEPCorreios",
     "evalue": "CEP NAO ENCONTRADO",
     "output_type": "error",
     "traceback": [
      "\u001b[0;31m---------------------------------------------------------------------------\u001b[0m",
      "\u001b[0;31mFault\u001b[0m                                     Traceback (most recent call last)",
      "\u001b[0;32m~/.pyenv/versions/dataAnalysis/lib/python3.6/site-packages/pycep_correios/cliente.py\u001b[0m in \u001b[0;36mconsultar_cep\u001b[0;34m(cep, ambiente)\u001b[0m\n\u001b[1;32m     60\u001b[0m             \u001b[0mclient\u001b[0m \u001b[0;34m=\u001b[0m \u001b[0mzeep\u001b[0m\u001b[0;34m.\u001b[0m\u001b[0mClient\u001b[0m\u001b[0;34m(\u001b[0m\u001b[0mURL\u001b[0m\u001b[0;34m[\u001b[0m\u001b[0mambiente\u001b[0m\u001b[0;34m]\u001b[0m\u001b[0;34m)\u001b[0m\u001b[0;34m\u001b[0m\u001b[0m\n\u001b[0;32m---> 61\u001b[0;31m             \u001b[0mendereco\u001b[0m \u001b[0;34m=\u001b[0m \u001b[0mclient\u001b[0m\u001b[0;34m.\u001b[0m\u001b[0mservice\u001b[0m\u001b[0;34m.\u001b[0m\u001b[0mconsultaCEP\u001b[0m\u001b[0;34m(\u001b[0m\u001b[0mformatar_cep\u001b[0m\u001b[0;34m(\u001b[0m\u001b[0mcep\u001b[0m\u001b[0;34m)\u001b[0m\u001b[0;34m)\u001b[0m\u001b[0;34m\u001b[0m\u001b[0m\n\u001b[0m\u001b[1;32m     62\u001b[0m \u001b[0;34m\u001b[0m\u001b[0m\n",
      "\u001b[0;32m~/.pyenv/versions/dataAnalysis/lib/python3.6/site-packages/zeep/proxy.py\u001b[0m in \u001b[0;36m__call__\u001b[0;34m(self, *args, **kwargs)\u001b[0m\n\u001b[1;32m     44\u001b[0m             \u001b[0margs\u001b[0m\u001b[0;34m,\u001b[0m\u001b[0;34m\u001b[0m\u001b[0m\n\u001b[0;32m---> 45\u001b[0;31m             \u001b[0mkwargs\u001b[0m\u001b[0;34m,\u001b[0m\u001b[0;34m\u001b[0m\u001b[0m\n\u001b[0m\u001b[1;32m     46\u001b[0m         )\n",
      "\u001b[0;32m~/.pyenv/versions/dataAnalysis/lib/python3.6/site-packages/zeep/wsdl/bindings/soap.py\u001b[0m in \u001b[0;36msend\u001b[0;34m(self, client, options, operation, args, kwargs)\u001b[0m\n\u001b[1;32m    129\u001b[0m \u001b[0;34m\u001b[0m\u001b[0m\n\u001b[0;32m--> 130\u001b[0;31m         \u001b[0;32mreturn\u001b[0m \u001b[0mself\u001b[0m\u001b[0;34m.\u001b[0m\u001b[0mprocess_reply\u001b[0m\u001b[0;34m(\u001b[0m\u001b[0mclient\u001b[0m\u001b[0;34m,\u001b[0m \u001b[0moperation_obj\u001b[0m\u001b[0;34m,\u001b[0m \u001b[0mresponse\u001b[0m\u001b[0;34m)\u001b[0m\u001b[0;34m\u001b[0m\u001b[0m\n\u001b[0m\u001b[1;32m    131\u001b[0m \u001b[0;34m\u001b[0m\u001b[0m\n",
      "\u001b[0;32m~/.pyenv/versions/dataAnalysis/lib/python3.6/site-packages/zeep/wsdl/bindings/soap.py\u001b[0m in \u001b[0;36mprocess_reply\u001b[0;34m(self, client, operation, response)\u001b[0m\n\u001b[1;32m    194\u001b[0m         \u001b[0;32mif\u001b[0m \u001b[0mresponse\u001b[0m\u001b[0;34m.\u001b[0m\u001b[0mstatus_code\u001b[0m \u001b[0;34m!=\u001b[0m \u001b[0;36m200\u001b[0m \u001b[0;32mor\u001b[0m \u001b[0mfault_node\u001b[0m \u001b[0;32mis\u001b[0m \u001b[0;32mnot\u001b[0m \u001b[0;32mNone\u001b[0m\u001b[0;34m:\u001b[0m\u001b[0;34m\u001b[0m\u001b[0m\n\u001b[0;32m--> 195\u001b[0;31m             \u001b[0;32mreturn\u001b[0m \u001b[0mself\u001b[0m\u001b[0;34m.\u001b[0m\u001b[0mprocess_error\u001b[0m\u001b[0;34m(\u001b[0m\u001b[0mdoc\u001b[0m\u001b[0;34m,\u001b[0m \u001b[0moperation\u001b[0m\u001b[0;34m)\u001b[0m\u001b[0;34m\u001b[0m\u001b[0m\n\u001b[0m\u001b[1;32m    196\u001b[0m \u001b[0;34m\u001b[0m\u001b[0m\n",
      "\u001b[0;32m~/.pyenv/versions/dataAnalysis/lib/python3.6/site-packages/zeep/wsdl/bindings/soap.py\u001b[0m in \u001b[0;36mprocess_error\u001b[0;34m(self, doc, operation)\u001b[0m\n\u001b[1;32m    298\u001b[0m             \u001b[0mactor\u001b[0m\u001b[0;34m=\u001b[0m\u001b[0mget_text\u001b[0m\u001b[0;34m(\u001b[0m\u001b[0;34m\"faultactor\"\u001b[0m\u001b[0;34m)\u001b[0m\u001b[0;34m,\u001b[0m\u001b[0;34m\u001b[0m\u001b[0m\n\u001b[0;32m--> 299\u001b[0;31m             \u001b[0mdetail\u001b[0m\u001b[0;34m=\u001b[0m\u001b[0mfault_node\u001b[0m\u001b[0;34m.\u001b[0m\u001b[0mfind\u001b[0m\u001b[0;34m(\u001b[0m\u001b[0;34m\"detail\"\u001b[0m\u001b[0;34m)\u001b[0m\u001b[0;34m,\u001b[0m\u001b[0;34m\u001b[0m\u001b[0m\n\u001b[0m\u001b[1;32m    300\u001b[0m         )\n",
      "\u001b[0;31mFault\u001b[0m: CEP NAO ENCONTRADO",
      "\nDuring handling of the above exception, another exception occurred:\n",
      "\u001b[0;31mExcecaoPyCEPCorreios\u001b[0m                      Traceback (most recent call last)",
      "\u001b[0;32m<ipython-input-659-7bf365927824>\u001b[0m in \u001b[0;36m<module>\u001b[0;34m\u001b[0m\n\u001b[0;32m----> 1\u001b[0;31m \u001b[0mendereco\u001b[0m \u001b[0;34m=\u001b[0m \u001b[0mpycep_correios\u001b[0m\u001b[0;34m.\u001b[0m\u001b[0mconsultar_cep\u001b[0m\u001b[0;34m(\u001b[0m\u001b[0;34m'68371020'\u001b[0m\u001b[0;34m)\u001b[0m\u001b[0;34m\u001b[0m\u001b[0m\n\u001b[0m",
      "\u001b[0;32m~/.pyenv/versions/dataAnalysis/lib/python3.6/site-packages/pycep_correios/cliente.py\u001b[0m in \u001b[0;36mconsultar_cep\u001b[0;34m(cep, ambiente)\u001b[0m\n\u001b[1;32m     72\u001b[0m \u001b[0;34m\u001b[0m\u001b[0m\n\u001b[1;32m     73\u001b[0m     \u001b[0;32mexcept\u001b[0m \u001b[0mzeep\u001b[0m\u001b[0;34m.\u001b[0m\u001b[0mexceptions\u001b[0m\u001b[0;34m.\u001b[0m\u001b[0mFault\u001b[0m \u001b[0;32mas\u001b[0m \u001b[0me\u001b[0m\u001b[0;34m:\u001b[0m\u001b[0;34m\u001b[0m\u001b[0m\n\u001b[0;32m---> 74\u001b[0;31m         \u001b[0;32mraise\u001b[0m \u001b[0mexcecoes\u001b[0m\u001b[0;34m.\u001b[0m\u001b[0mExcecaoPyCEPCorreios\u001b[0m\u001b[0;34m(\u001b[0m\u001b[0mmessage\u001b[0m\u001b[0;34m=\u001b[0m\u001b[0me\u001b[0m\u001b[0;34m.\u001b[0m\u001b[0mmessage\u001b[0m\u001b[0;34m)\u001b[0m\u001b[0;34m\u001b[0m\u001b[0m\n\u001b[0m\u001b[1;32m     75\u001b[0m \u001b[0;34m\u001b[0m\u001b[0m\n\u001b[1;32m     76\u001b[0m \u001b[0;34m\u001b[0m\u001b[0m\n",
      "\u001b[0;31mExcecaoPyCEPCorreios\u001b[0m: CEP NAO ENCONTRADO"
     ]
    }
   ],
   "source": [
    "endereco = pycep_correios.consultar_cep('68371020')"
   ]
  },
  {
   "cell_type": "code",
   "execution_count": null,
   "metadata": {},
   "outputs": [],
   "source": []
  },
  {
   "cell_type": "code",
   "execution_count": null,
   "metadata": {},
   "outputs": [],
   "source": []
  },
  {
   "cell_type": "code",
   "execution_count": null,
   "metadata": {},
   "outputs": [],
   "source": []
  },
  {
   "cell_type": "code",
   "execution_count": null,
   "metadata": {},
   "outputs": [],
   "source": []
  }
 ],
 "metadata": {
  "kernelspec": {
   "display_name": "dataAnalysis",
   "language": "python",
   "name": "dataanalysis"
  },
  "language_info": {
   "codemirror_mode": {
    "name": "ipython",
    "version": 3
   },
   "file_extension": ".py",
   "mimetype": "text/x-python",
   "name": "python",
   "nbconvert_exporter": "python",
   "pygments_lexer": "ipython3",
   "version": "3.6.0"
  }
 },
 "nbformat": 4,
 "nbformat_minor": 2
}
