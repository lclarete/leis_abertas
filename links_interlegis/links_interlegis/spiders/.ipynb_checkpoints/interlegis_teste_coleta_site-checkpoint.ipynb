{
 "cells": [
  {
   "cell_type": "code",
   "execution_count": 1,
   "metadata": {},
   "outputs": [],
   "source": [
    "import pandas as pd"
   ]
  },
  {
   "cell_type": "code",
   "execution_count": 2,
   "metadata": {},
   "outputs": [],
   "source": [
    "# EXTRACT DATA USING XPATH: SET THE FUNCTION\n",
    "\n",
    "from scrapy import Selector\n",
    "\n",
    "def xpath_extract_values(list_xpaths):\n",
    "    # read the html file\n",
    "    with open(r\"angra_reis.html\", \"r\") as file: \n",
    "        page = file.read()\n",
    "    # call Selector function from scrapy on a html file\n",
    "    sel = Selector(text=page, type='html')\n",
    "    # iterate through each a list of xpaths elements\n",
    "    xpath_values = [sel.xpath(val).extract() for val in list_xpaths]\n",
    "    # flat the nested list\n",
    "    xpath_values_flat = [x for k in xpath_values for x in k]\n",
    "    return(xpath_values_flat)"
   ]
  },
  {
   "cell_type": "code",
   "execution_count": 3,
   "metadata": {},
   "outputs": [
    {
     "data": {
      "text/plain": [
       "['Câmara Municipal de Angra dos Reis']"
      ]
     },
     "execution_count": 3,
     "metadata": {},
     "output_type": "execute_result"
    }
   ],
   "source": [
    "xpath_extract_values(['//h1//text()'])"
   ]
  },
  {
   "cell_type": "code",
   "execution_count": 82,
   "metadata": {},
   "outputs": [
    {
     "name": "stdout",
     "output_type": "stream",
     "text": [
      "http://www.cmar.rj.gov.br/\n"
     ]
    }
   ],
   "source": [
    "for i in xpath_extract_values(['//dl[@class=\"casa\"]//a//text()']):\n",
    "    if 'http' in i:\n",
    "        print(i)"
   ]
  },
  {
   "cell_type": "code",
   "execution_count": 91,
   "metadata": {},
   "outputs": [
    {
     "data": {
      "text/plain": [
       "['http://www.cmar.rj.gov.br/',\n",
       " 'mailto:presidencia@angradosreis.rj.leg.br',\n",
       " 'javascript:void(0);']"
      ]
     },
     "execution_count": 91,
     "metadata": {},
     "output_type": "execute_result"
    }
   ],
   "source": [
    "xpath_extract_values(['//dl[@class=\"casa\"]//a//@href'])"
   ]
  },
  {
   "cell_type": "code",
   "execution_count": 5,
   "metadata": {},
   "outputs": [
    {
     "data": {
      "text/plain": [
       "['Endereço:',\n",
       " 'Rua Honório Lima, nº 167 ',\n",
       " 'Centro',\n",
       " 'Angra dos Reis',\n",
       " 'Rio de Janeiro',\n",
       " 'CEP:',\n",
       " '23900-215',\n",
       " 'Fone:',\n",
       " '(24) 3365-3875']"
      ]
     },
     "execution_count": 5,
     "metadata": {},
     "output_type": "execute_result"
    }
   ],
   "source": [
    "xpath_extract_values(['//dd[@class=\"portletItemSingle\"]//span//text()'])"
   ]
  },
  {
   "cell_type": "code",
   "execution_count": 6,
   "metadata": {},
   "outputs": [],
   "source": [
    "# parse data crawled data"
   ]
  },
  {
   "cell_type": "code",
   "execution_count": 92,
   "metadata": {},
   "outputs": [],
   "source": [
    "# read data\n",
    "df = pd.read_csv('interlegis_city.csv')"
   ]
  },
  {
   "cell_type": "code",
   "execution_count": 96,
   "metadata": {},
   "outputs": [
    {
     "data": {
      "text/plain": [
       "(5079, 4)"
      ]
     },
     "execution_count": 96,
     "metadata": {},
     "output_type": "execute_result"
    }
   ],
   "source": [
    "df.shape"
   ]
  },
  {
   "cell_type": "code",
   "execution_count": 97,
   "metadata": {},
   "outputs": [],
   "source": [
    "# clean col 'title'\n",
    "def replace_title(col):\n",
    "    col = col.split('data=')\n",
    "    col_clean = col[1]\n",
    "    col_clean = col_clean.replace('>]', '')\n",
    "    col_clean = col_clean.replace(\"'\", \"\")\n",
    "    return(col_clean)"
   ]
  },
  {
   "cell_type": "code",
   "execution_count": 98,
   "metadata": {},
   "outputs": [],
   "source": [
    "# create new col with 'title' col cleaned\n",
    "df['title_clean'] = df.title.apply(replace_title)"
   ]
  },
  {
   "cell_type": "code",
   "execution_count": 10,
   "metadata": {},
   "outputs": [],
   "source": [
    "import re"
   ]
  },
  {
   "cell_type": "code",
   "execution_count": 99,
   "metadata": {},
   "outputs": [],
   "source": [
    "def search_email(col):\n",
    "    regex_email = '[\\w.-]+@[\\w.-]+.\\w+'\n",
    "    col_email = re.findall(regex_email, col)\n",
    "    col_email_clean = \"\".join(col_email)\n",
    "    return(col_email)"
   ]
  },
  {
   "cell_type": "code",
   "execution_count": 100,
   "metadata": {},
   "outputs": [
    {
     "data": {
      "text/plain": [
       "'[<Selector xpath=\\'//dl[@class=\"casa\"]//a/@href\\' data=\\'http://www.camara.ubaitaba.ba.io.org.br/\\'>, <Selector xpath=\\'//dl[@class=\"casa\"]//a/@href\\' data=\\'mailto:camaramunicipaldeubaitaba2015@gma\\'>, <Selector xpath=\\'//dl[@class=\"casa\"]//a/@href\\' data=\\'javascript:void(0);\\'>]'"
      ]
     },
     "execution_count": 100,
     "metadata": {},
     "output_type": "execute_result"
    }
   ],
   "source": [
    "df.url[5073]"
   ]
  },
  {
   "cell_type": "code",
   "execution_count": 101,
   "metadata": {},
   "outputs": [
    {
     "data": {
      "text/plain": [
       "0         [vereadorescotegipe@yahoo.com.br]\n",
       "1                 [camaradebarao@gmail.com]\n",
       "2               [camara.barao@yahoo.com.br]\n",
       "3                                        []\n",
       "4                    [camarabtg@bol.com.br]\n",
       "5               [camarabt@conectsul.com.br]\n",
       "6             [camarabataypora@hotmail.com]\n",
       "7                   [camarabarao@ig.com.br]\n",
       "8        [camarabastos@camarabastos.sp.gov]\n",
       "9           [camarabaraodegrajau@gmail.com]\n",
       "10       [camaramunicipaldebatalha@hotmail]\n",
       "11      [camaramunicipaldebaturite@hotmail]\n",
       "12       [camarabatatais@camarabatatais.sp]\n",
       "13              [iranildo.melo@hotmail.com]\n",
       "14            [presidencia@bauru.sp.leg.br]\n",
       "15          [camarabf.gabinete@outlook.com]\n",
       "16                                       []\n",
       "17               [cmbtgestao2018@gmail.com]\n",
       "18              [andrea@camarabn.sc.gov.br]\n",
       "19       [camara@camarabebedouro.sp.gov.br]\n",
       "20                                       []\n",
       "21                                       []\n",
       "22      [contabilidade@belavistadacaroba.p]\n",
       "23      [secretariacamarabraunas@gmail.com]\n",
       "24      [cmbrejetuba@camarabrejetuba.es.go]\n",
       "25       [camara@bracodotrombudo.sc.gov.br]\n",
       "26                [camarabjhpe@hotmail.com]\n",
       "27           [contato@cmbeberibe.ce.gov.br]\n",
       "28              [camarabelavista@gmail.com]\n",
       "29              [camarastarbnz@hotmail.com]\n",
       "                       ...                 \n",
       "5049                                     []\n",
       "5050               [cmvilarica@hotmail.com]\n",
       "5051                                     []\n",
       "5052               [camarats@ouronetonline]\n",
       "5053                [facilfacil@via-rs.net]\n",
       "5054    [relacoespubicas@camaradetuparetam]\n",
       "5055                                     []\n",
       "5056           [camaratupiratins@gmail.com]\n",
       "5057       [camaratupaciguara@yahoo.com.br]\n",
       "5058                                     []\n",
       "5059       [camara@camaratupassinpr.gov.br]\n",
       "5060             [camaramtupto@hotmail.com]\n",
       "5061                                     []\n",
       "5062            [camaraturucu@yahoo.com.br]\n",
       "5063                [camaratur@hotmail.com]\n",
       "5064                   [camturvo@gmail.com]\n",
       "5065              [cmturmalina@hotmail.com]\n",
       "5066        [contato@camaraturvo.pr.gov.br]\n",
       "5067                                     []\n",
       "5068                                     []\n",
       "5069    [camaramunicipaldetururu2017@hotma]\n",
       "5070     [legislativoturvelandia@gmail.com]\n",
       "5071          [camaraturvolandia@gmail.com]\n",
       "5072    [camaramunicipalturvania@gmail.com]\n",
       "5073    [camaramunicipaldeubaitaba2015@gma]\n",
       "5074         [contatos@cmubajara.ce.gov.br]\n",
       "5075                                     []\n",
       "5076                   [cmuaua@hotmail.com]\n",
       "5077    [camaramunicipalubaporonga@outlook]\n",
       "5078    [camaramunicipalubaporonga@outlook]\n",
       "Name: url, Length: 5079, dtype: object"
      ]
     },
     "execution_count": 101,
     "metadata": {},
     "output_type": "execute_result"
    }
   ],
   "source": [
    "df.url.apply(search_email)"
   ]
  },
  {
   "cell_type": "code",
   "execution_count": 60,
   "metadata": {},
   "outputs": [
    {
     "data": {
      "text/plain": [
       "['vereadorescotegipe@yahoo.com.br']"
      ]
     },
     "execution_count": 60,
     "metadata": {},
     "output_type": "execute_result"
    }
   ],
   "source": [
    "re.findall(search, teste_url)"
   ]
  },
  {
   "cell_type": "code",
   "execution_count": 21,
   "metadata": {},
   "outputs": [],
   "source": [
    "teste_url = df.url[0]"
   ]
  },
  {
   "cell_type": "code",
   "execution_count": 23,
   "metadata": {},
   "outputs": [
    {
     "data": {
      "text/plain": [
       "'[<Selector xpath=\\'//dl[@class=\"casa\"]//a/@href\\' data=\\'mailto:vereadorescotegipe@yahoo.com.br\\'>, <Selector xpath=\\'//dl[@class=\"casa\"]//a/@href\\' data=\\'javascript:void(0);\\'>]'"
      ]
     },
     "execution_count": 23,
     "metadata": {},
     "output_type": "execute_result"
    }
   ],
   "source": [
    "teste_url"
   ]
  },
  {
   "cell_type": "code",
   "execution_count": null,
   "metadata": {},
   "outputs": [],
   "source": []
  },
  {
   "cell_type": "code",
   "execution_count": null,
   "metadata": {},
   "outputs": [],
   "source": []
  },
  {
   "cell_type": "code",
   "execution_count": null,
   "metadata": {},
   "outputs": [],
   "source": []
  },
  {
   "cell_type": "code",
   "execution_count": null,
   "metadata": {},
   "outputs": [],
   "source": []
  }
 ],
 "metadata": {
  "kernelspec": {
   "display_name": "dataAnalysis",
   "language": "python",
   "name": "dataanalysis"
  },
  "language_info": {
   "codemirror_mode": {
    "name": "ipython",
    "version": 3
   },
   "file_extension": ".py",
   "mimetype": "text/x-python",
   "name": "python",
   "nbconvert_exporter": "python",
   "pygments_lexer": "ipython3",
   "version": "3.6.0"
  }
 },
 "nbformat": 4,
 "nbformat_minor": 2
}
