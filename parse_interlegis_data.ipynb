{
 "cells": [
  {
   "cell_type": "code",
   "execution_count": 1,
   "metadata": {},
   "outputs": [],
   "source": [
    "import pandas as pd"
   ]
  },
  {
   "cell_type": "markdown",
   "metadata": {},
   "source": [
    "# read data"
   ]
  },
  {
   "cell_type": "code",
   "execution_count": 2,
   "metadata": {},
   "outputs": [],
   "source": [
    "# read scraped data from interlegis city information\n",
    "\n",
    "scrape_data = '/Users/liviaclarete/gdrive/code/mestrado_iesp/links_interlegis/links_interlegis/spiders/interlegis_data.csv'\n",
    "df = pd.read_csv(scrape_data)"
   ]
  },
  {
   "cell_type": "code",
   "execution_count": 3,
   "metadata": {},
   "outputs": [
    {
     "name": "stdout",
     "output_type": "stream",
     "text": [
      "(5704, 4)\n"
     ]
    },
    {
     "data": {
      "text/html": [
       "<div>\n",
       "<style scoped>\n",
       "    .dataframe tbody tr th:only-of-type {\n",
       "        vertical-align: middle;\n",
       "    }\n",
       "\n",
       "    .dataframe tbody tr th {\n",
       "        vertical-align: top;\n",
       "    }\n",
       "\n",
       "    .dataframe thead th {\n",
       "        text-align: right;\n",
       "    }\n",
       "</style>\n",
       "<table border=\"1\" class=\"dataframe\">\n",
       "  <thead>\n",
       "    <tr style=\"text-align: right;\">\n",
       "      <th></th>\n",
       "      <th>title</th>\n",
       "      <th>url_camara</th>\n",
       "      <th>address</th>\n",
       "      <th>link</th>\n",
       "    </tr>\n",
       "  </thead>\n",
       "  <tbody>\n",
       "    <tr>\n",
       "      <th>0</th>\n",
       "      <td>Câmara Municipal de Almino Afonso</td>\n",
       "      <td>mailto:cmaa@brisanet.com.br,javascript:void(0);</td>\n",
       "      <td>Endereço:,Rua Antônio Carlos, nº 44 ,Centro,Al...</td>\n",
       "      <td>http://www.interlegis.leg.br/institucional/cas...</td>\n",
       "    </tr>\n",
       "    <tr>\n",
       "      <th>1</th>\n",
       "      <td>Câmara Municipal de Alta Floresta</td>\n",
       "      <td>http://www.camaraaltafloresta.mt.gov.br/,mailt...</td>\n",
       "      <td>Endereço:,Av. Ariosto da Riva, nº 2349,Centro....</td>\n",
       "      <td>http://www.interlegis.leg.br/institucional/cas...</td>\n",
       "    </tr>\n",
       "    <tr>\n",
       "      <th>2</th>\n",
       "      <td>Câmara Municipal de Alpinópolis</td>\n",
       "      <td>http://www.camaracapinopolis.mg.gov.br/,mailto...</td>\n",
       "      <td>Endereço:,Rua Professor Telles, nº 335,São Ben...</td>\n",
       "      <td>http://www.interlegis.leg.br/institucional/cas...</td>\n",
       "    </tr>\n",
       "    <tr>\n",
       "      <th>3</th>\n",
       "      <td>Câmara Municipal de Alpestre</td>\n",
       "      <td>mailto:legislativoalpestre@yahoo.com.br,javasc...</td>\n",
       "      <td>Endereço:,Avenida Farrapos, nº 350,Centro,Alpe...</td>\n",
       "      <td>http://www.interlegis.leg.br/institucional/cas...</td>\n",
       "    </tr>\n",
       "    <tr>\n",
       "      <th>4</th>\n",
       "      <td>Câmara Municipal de Altair</td>\n",
       "      <td>mailto:camaramunicipalaltair@hotmail.com,javas...</td>\n",
       "      <td>Endereço:,Rua 04, nº 240,Centro,Altair,São Pau...</td>\n",
       "      <td>http://www.interlegis.leg.br/institucional/cas...</td>\n",
       "    </tr>\n",
       "  </tbody>\n",
       "</table>\n",
       "</div>"
      ],
      "text/plain": [
       "                               title  \\\n",
       "0  Câmara Municipal de Almino Afonso   \n",
       "1  Câmara Municipal de Alta Floresta   \n",
       "2    Câmara Municipal de Alpinópolis   \n",
       "3       Câmara Municipal de Alpestre   \n",
       "4         Câmara Municipal de Altair   \n",
       "\n",
       "                                          url_camara  \\\n",
       "0    mailto:cmaa@brisanet.com.br,javascript:void(0);   \n",
       "1  http://www.camaraaltafloresta.mt.gov.br/,mailt...   \n",
       "2  http://www.camaracapinopolis.mg.gov.br/,mailto...   \n",
       "3  mailto:legislativoalpestre@yahoo.com.br,javasc...   \n",
       "4  mailto:camaramunicipalaltair@hotmail.com,javas...   \n",
       "\n",
       "                                             address  \\\n",
       "0  Endereço:,Rua Antônio Carlos, nº 44 ,Centro,Al...   \n",
       "1  Endereço:,Av. Ariosto da Riva, nº 2349,Centro....   \n",
       "2  Endereço:,Rua Professor Telles, nº 335,São Ben...   \n",
       "3  Endereço:,Avenida Farrapos, nº 350,Centro,Alpe...   \n",
       "4  Endereço:,Rua 04, nº 240,Centro,Altair,São Pau...   \n",
       "\n",
       "                                                link  \n",
       "0  http://www.interlegis.leg.br/institucional/cas...  \n",
       "1  http://www.interlegis.leg.br/institucional/cas...  \n",
       "2  http://www.interlegis.leg.br/institucional/cas...  \n",
       "3  http://www.interlegis.leg.br/institucional/cas...  \n",
       "4  http://www.interlegis.leg.br/institucional/cas...  "
      ]
     },
     "execution_count": 3,
     "metadata": {},
     "output_type": "execute_result"
    }
   ],
   "source": [
    "# test if the data was correctly read\n",
    "print(df.shape)\n",
    "\n",
    "df.head()"
   ]
  },
  {
   "cell_type": "markdown",
   "metadata": {},
   "source": [
    "# feature extraction"
   ]
  },
  {
   "cell_type": "code",
   "execution_count": 4,
   "metadata": {},
   "outputs": [],
   "source": [
    "# extract street number, email,url and uf from scraped data\n",
    "import re\n",
    "def search_number(col):\n",
    "    regex_email = '[nº]..[0-9]{1,7}'\n",
    "    col_n = re.findall(regex_email, col)\n",
    "    col_n_clean = \"\".join(col_n)\n",
    "    col_n_clean = col_n_clean.replace(\n",
    "        ' ','').replace('nº', '').replace('º', '').replace('n°', '')\n",
    "    return(col_n_clean)\n",
    "\n",
    "def search_email(col):\n",
    "    regex_email = r'[\\w\\.-]+@[\\w\\.-]+'\n",
    "    col_email = re.findall(regex_email, col)\n",
    "    col_email_clean = \"\".join(col_email)\n",
    "    return(col_email_clean)\n",
    "\n",
    "def search_url(col):\n",
    "    regex_email = r'https?://(?:[-\\w.]|(?:%[\\da-fA-F]{2}))+'\n",
    "    col_url = re.findall(regex_email, col)\n",
    "    col_url_clean = \"\".join(col_url)\n",
    "    return(col_url_clean)\n",
    "\n",
    "def search_uf(col):\n",
    "    regex_uf = r\"[^,]*.CEP\"\n",
    "    col_uf = re.findall(regex_uf, col)\n",
    "    col_uf_clean = \"\".join(col_uf)\n",
    "    return(col_uf_clean)"
   ]
  },
  {
   "cell_type": "code",
   "execution_count": 5,
   "metadata": {},
   "outputs": [
    {
     "name": "stdout",
     "output_type": "stream",
     "text": [
      "--2019-06-17 17:19:00--  https://raw.githubusercontent.com/kelvins/Municipios-Brasileiros/master/csv/estados.csv\n",
      "Resolving raw.githubusercontent.com... 151.101.92.133\n",
      "Connecting to raw.githubusercontent.com|151.101.92.133|:443... connected.\n",
      "HTTP request sent, awaiting response... 200 OK\n",
      "Length: 475 [text/plain]\n",
      "Saving to: ‘estados.csv.2’\n",
      "\n",
      "estados.csv.2       100%[===================>]     475  --.-KB/s    in 0s      \n",
      "\n",
      "2019-06-17 17:19:00 (19.7 MB/s) - ‘estados.csv.2’ saved [475/475]\n",
      "\n"
     ]
    }
   ],
   "source": [
    "# add new column with the state code\n",
    "\n",
    "# copy dict from https://gist.github.com/ricardobarantini/5665214\n",
    "\n",
    "uf_dict = {\n",
    "    'AC': 'Acre',\n",
    "    'AL': 'Alagoas',\n",
    "    'AP': 'Amapá',\n",
    "    'AM': 'Amazonas',\n",
    "    'BA': 'Bahia',\n",
    "    'CE': 'Ceará',\n",
    "    'DF': 'Distrito Federal',\n",
    "    'ES': 'Espírito Santo',\n",
    "    'GO': 'Goiás',\n",
    "    'MA': 'Maranhão',\n",
    "    'MT': 'Mato Grosso',\n",
    "    'MS': 'Mato Grosso do Sul',\n",
    "    'MG': 'Minas Gerais',\n",
    "    'PA': 'Pará',\n",
    "    'PB': 'Paraíba',\n",
    "    'PR': 'Paraná',\n",
    "    'PE': 'Pernambuco',\n",
    "    'PI': 'Piauí',\n",
    "    'RJ': 'Rio de Janeiro',\n",
    "    'RN': 'Rio Grande do Norte',\n",
    "    'RS': 'Rio Grande do Sul',\n",
    "    'RO': 'Rondônia',\n",
    "    'RR': 'Roraima',\n",
    "    'SC': 'Santa Catarina',\n",
    "    'SP': 'São Paulo',\n",
    "    'SE': 'Sergipe',\n",
    "    'TO': 'Tocantins'\n",
    "}\n",
    "\n",
    "# swift postion from key to values\n",
    "uf_dict_2 = {y:x for x,y in uf_dict.items()}\n",
    "\n",
    "\n",
    "# download uf codes from a repository\n",
    "! wget https://raw.githubusercontent.com/kelvins/Municipios-Brasileiros/master/csv/estados.csv\n",
    "\n",
    "# add column with the state code\n",
    "\n",
    "# read file with 'uf' as an index_col \n",
    "# uf_code = pd.read_csv('estados.csv', index_col=['uf'])\n",
    "\n",
    "# export to a dictionary\n",
    "# uf_code_dict = uf_code[['codigo_uf']].to_dict()\n",
    "\n",
    "# colect dict items\n",
    "# uf_code_dict.items()\n",
    "\n",
    "# I've copied and pasted\n",
    "# think about something more useful next time\n",
    "uf_code_dict = {'RO': 11, \n",
    "                'AC': 12, \n",
    "                'AM': 13, \n",
    "                'RR': 14, \n",
    "                'PA': 15, \n",
    "                'AP': 16, \n",
    "                'TO': 17, \n",
    "                'MA': 21, \n",
    "                'PI': 22, \n",
    "                'CE': 23, \n",
    "                'RN': 24, \n",
    "                'PB': 25, \n",
    "                'PE': 26, \n",
    "                'AL': 27, \n",
    "                'SE': 28, \n",
    "                'BA': 29, \n",
    "                'MG': 31, \n",
    "                'ES': 32, \n",
    "                'RJ': 33, \n",
    "                'SP': 35, \n",
    "                'PR': 41, \n",
    "                'SC': 42, \n",
    "                'RS': 43, \n",
    "                'MS': 50, \n",
    "                'MT': 51, \n",
    "                'GO': 52, \n",
    "                'DF': 53}\n",
    "\n"
   ]
  },
  {
   "cell_type": "code",
   "execution_count": 6,
   "metadata": {},
   "outputs": [],
   "source": [
    "# FEATURE EXTRACTION\n",
    "\n",
    "# split the data from title to get the city name\n",
    "df['NomeMun'] = [df.title[i].split('Câmara Municipal de ')[1] \n",
    "                for i in range(0, len(df.link))]\n",
    "\n",
    "# get the uf name from search from a re pattern within df.address\n",
    "df['uf'] = df.address.apply(search_uf).str.split(',')\n",
    "# split the CEP from the name of the state by getting the first value of each cell\n",
    "df['uf'] = [df.uf[i][0] for i in range(0, len(df.uf))]\n",
    "# swift state name to state code\n",
    "df['uf'] = df.uf.map(uf_dict_2)\n",
    "\n",
    "# map the state code from state initials\n",
    "df['uf_code'] = df.uf.map(uf_code_dict)\n",
    "# multiply the code by 1^7 to match the IBGE format\n",
    "df['uf_code_multi'] = df.uf_code.multiply(1000000)\n",
    "\n",
    "# get the street name\n",
    "df['rua_camara'] = [i[1] for i in df.address.str.split(',')]\n",
    "\n",
    "# get the street number\n",
    "df['numero_camara'] = df.address.apply(search_number)\n",
    "\n",
    "# get the zipcode\n",
    "df['cep'] = [i[1] for i in df.address.str.split('CEP')]\n",
    "df['cep'] = [i[1] for i in df.cep.str.split(',')]\n",
    "\n",
    "# get the email\n",
    "df['email'] = df.url_camara.apply(search_email)\n",
    "\n",
    "# get first link from each town at interlegis website\n",
    "df['url_interlegis'] = [df.link[i].split('#')[0] \n",
    "                    for i in range(0, len(df.link))]\n",
    "\n",
    "# get the legislative house\n",
    "df['url_legislativo'] = df.url_camara.apply(search_url)\n",
    "\n",
    "# creating match var to merge pop_info file\n",
    "df['match_var'] = df.NomeMun + '_' + df.uf"
   ]
  },
  {
   "cell_type": "markdown",
   "metadata": {},
   "source": [
    "# clean data & NA values"
   ]
  },
  {
   "cell_type": "code",
   "execution_count": 7,
   "metadata": {},
   "outputs": [],
   "source": [
    "# drop columns\n",
    "df = df.drop(['url_camara', 'address', 'link'], axis=1)"
   ]
  },
  {
   "cell_type": "code",
   "execution_count": 8,
   "metadata": {},
   "outputs": [],
   "source": [
    "# NA values\n",
    "import numpy as np\n",
    "# df = df.replace('', np.NaN)"
   ]
  },
  {
   "cell_type": "code",
   "execution_count": 9,
   "metadata": {},
   "outputs": [],
   "source": [
    "# import dataset with IBGE codes\n",
    "\n",
    "city_pop_info = pd.read_csv('/Users/liviaclarete/gdrive/code/municipios e estados/pop_gdp.csv')\n",
    "\n",
    "city_pop_info_2016 = city_pop_info[city_pop_info['Ano']==2016]\n",
    "\n",
    "city_code = city_pop_info_2016[['NomeMun', 'UF', 'CodMun']]"
   ]
  },
  {
   "cell_type": "code",
   "execution_count": 10,
   "metadata": {},
   "outputs": [
    {
     "name": "stderr",
     "output_type": "stream",
     "text": [
      "/Users/liviaclarete/.pyenv/versions/dataAnalysis/lib/python3.6/site-packages/ipykernel/__main__.py:1: SettingWithCopyWarning: \n",
      "A value is trying to be set on a copy of a slice from a DataFrame.\n",
      "Try using .loc[row_indexer,col_indexer] = value instead\n",
      "\n",
      "See the caveats in the documentation: http://pandas.pydata.org/pandas-docs/stable/indexing.html#indexing-view-versus-copy\n",
      "  if __name__ == '__main__':\n"
     ]
    }
   ],
   "source": [
    "city_code['match_var'] = city_code.NomeMun + '_' + city_code.UF"
   ]
  },
  {
   "cell_type": "code",
   "execution_count": 11,
   "metadata": {},
   "outputs": [],
   "source": [
    "# reset index\n",
    "city_code = city_code.reset_index()\n",
    "city_code = city_code.drop('index', axis=1)"
   ]
  },
  {
   "cell_type": "code",
   "execution_count": 12,
   "metadata": {},
   "outputs": [],
   "source": [
    "# merge city_code with df\n",
    "url_interlegis = city_code.merge(df, how='inner')"
   ]
  },
  {
   "cell_type": "code",
   "execution_count": 13,
   "metadata": {},
   "outputs": [
    {
     "data": {
      "text/plain": [
       "(5536, 14)"
      ]
     },
     "execution_count": 13,
     "metadata": {},
     "output_type": "execute_result"
    }
   ],
   "source": [
    "url_interlegis.shape"
   ]
  },
  {
   "cell_type": "code",
   "execution_count": 14,
   "metadata": {},
   "outputs": [
    {
     "data": {
      "text/plain": [
       "5536"
      ]
     },
     "execution_count": 14,
     "metadata": {},
     "output_type": "execute_result"
    }
   ],
   "source": [
    "url_interlegis.url_legislativo.notnull().sum()"
   ]
  },
  {
   "cell_type": "code",
   "execution_count": 15,
   "metadata": {},
   "outputs": [],
   "source": [
    "url_interlegis.to_csv('url_interlegis.csv', index=False)"
   ]
  }
 ],
 "metadata": {
  "kernelspec": {
   "display_name": "dataAnalysis",
   "language": "python",
   "name": "dataanalysis"
  },
  "language_info": {
   "codemirror_mode": {
    "name": "ipython",
    "version": 3
   },
   "file_extension": ".py",
   "mimetype": "text/x-python",
   "name": "python",
   "nbconvert_exporter": "python",
   "pygments_lexer": "ipython3",
   "version": "3.6.0"
  }
 },
 "nbformat": 4,
 "nbformat_minor": 2
}
